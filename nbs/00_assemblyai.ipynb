{
 "cells": [
  {
   "cell_type": "code",
   "execution_count": null,
   "metadata": {},
   "outputs": [],
   "source": [
    "#| default_exp assemblyai"
   ]
  },
  {
   "cell_type": "markdown",
   "metadata": {},
   "source": [
    "# assemblyai\n",
    "\n",
    "> Simple API for quickly transcribing and understanding audio/video files. "
   ]
  },
  {
   "cell_type": "code",
   "execution_count": null,
   "metadata": {},
   "outputs": [],
   "source": [
    "#| export\n",
    "from fastcore.utils import *\n",
    "import requests"
   ]
  },
  {
   "cell_type": "code",
   "execution_count": null,
   "metadata": {},
   "outputs": [],
   "source": [
    "#| hide\n",
    "from nbdev.showdoc import *"
   ]
  },
  {
   "cell_type": "code",
   "execution_count": null,
   "metadata": {},
   "outputs": [],
   "source": [
    "#| export\n",
    "submit_transcript = \"https://api.assemblyai.com/v2/transcript\" # AssemblyAI endpoint\n",
    "class AssemblyAI:\n",
    "    ''' AssemblAI class for transcribing '''\n",
    "    def __init__(self, #AssemblyAI\n",
    "                 api_key:str # AssemblyAI API Key, Get it for free from https://app.assemblyai.com/\n",
    "                ):\n",
    "        self.api_key = api_key\n",
    "    \n",
    "    \n",
    "    def get_headers(self):\n",
    "        return {\"authorization\": self.api_key, \"content-type\": \"application/json\"}\n",
    "    \n",
    "    \n",
    "    def get_status_of_transcription(self,\n",
    "                                    transcripiton_id: str) -> str:\n",
    "        endpoint = f\"{submit_transcript}/{transcripiton_id}\"\n",
    "        response = requests.get(endpoint, headers=self.get_headers())\n",
    "        \n",
    "        return response.json()"
   ]
  },
  {
   "cell_type": "code",
   "execution_count": null,
   "metadata": {},
   "outputs": [],
   "source": [
    "#| export\n",
    "@patch\n",
    "def submit_url_for_transcription(self:AssemblyAI,\n",
    "                                 audio_url: str, #Audio URL \n",
    "                                 sentiment_analysis: bool = False, # Include Sentiment Analysis\n",
    "                                 auto_chapters: bool = False, # Include Auto Chapaters\n",
    "                                 entity_detection: bool = False, # Include Entity Detection\n",
    "                                 auto_highlights: bool = False, # Include Auto Highlights \n",
    "                                 summarization: bool = False, # Include Summary \n",
    "                                 summary_type: str = \"bullets\", # If summary is included select `summary_type` from list [`bullets', 'bullets_verbose', 'gist', 'paragraph', 'headline']. Check out this for more details: https://www.assemblyai.com/docs/audio-intelligence#summarization \n",
    "                                ):\n",
    "        ''' Submit Audio/Video URL for Transcription '''\n",
    "        json = {\n",
    "            \"audio_url\": audio_url,\n",
    "            \"sentiment_analysis\": sentiment_analysis,\n",
    "            \"auto_chapters\": auto_chapters,\n",
    "            \"entity_detection\": entity_detection,\n",
    "            \"auto_highlights\": auto_highlights,\n",
    "        }\n",
    "        response = requests.post(submit_transcript, json=json, headers=self.get_headers())\n",
    "        return response.json()"
   ]
  },
  {
   "cell_type": "code",
   "execution_count": null,
   "metadata": {},
   "outputs": [],
   "source": [
    "#| export\n",
    "\n",
    "@patch\n",
    "def get_transcription_results(self:AssemblyAI,\n",
    "                              transcripiton_id: str, # Transcrption ID that we got from `submit_url_for_transcription`\n",
    "                              all_details: bool = False # Include All the details, by default it `text` and `id` are returned\n",
    "                             ):\n",
    "    \"\"\"Get the transcription results for the given id\"\"\"\n",
    "    full_details = self.get_status_of_transcription(transcripiton_id)\n",
    "    status = full_details.get(\"status\")\n",
    "    while status not in [\"completed\", \"error\"]:\n",
    "        time.sleep(5)  # sleep for secs\n",
    "        full_details = get_status_of_transcription(transcripiton_id)\n",
    "        status = full_details.get(\"status\")\n",
    "\n",
    "    if all_details:\n",
    "        return full_details\n",
    "\n",
    "\n",
    "    return {\n",
    "        \"id\": full_details.get(\"id\"),\n",
    "        \"confidence\": full_details.get(\"confidence\"),\n",
    "        \"text\": full_details.get(\"text\"),\n",
    "    }"
   ]
  },
  {
   "cell_type": "code",
   "execution_count": null,
   "metadata": {},
   "outputs": [],
   "source": [
    "#| hide\n",
    "import nbdev; nbdev.nbdev_export()"
   ]
  },
  {
   "cell_type": "code",
   "execution_count": null,
   "metadata": {},
   "outputs": [],
   "source": []
  }
 ],
 "metadata": {
  "kernelspec": {
   "display_name": "Python 3 (ipykernel)",
   "language": "python",
   "name": "python3"
  }
 },
 "nbformat": 4,
 "nbformat_minor": 4
}
